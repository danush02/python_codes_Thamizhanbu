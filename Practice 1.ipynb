{
 "cells": [
  {
   "cell_type": "markdown",
   "id": "4d57c816",
   "metadata": {},
   "source": [
    "# IF Statement"
   ]
  },
  {
   "cell_type": "code",
   "execution_count": 33,
   "id": "c0ad0ecc",
   "metadata": {},
   "outputs": [
    {
     "name": "stdout",
     "output_type": "stream",
     "text": [
      "Start of Prog\n",
      "Enter Input:50\n",
      "False\n",
      "End\n"
     ]
    }
   ],
   "source": [
    "print(\"Start of Prog\")\n",
    "a=int(input(\"Enter Input:\")) # Without type casting default input type will be string\n",
    "if type(a)==str:\n",
    "    if (a+4)<=9:\n",
    "        print(True)\n",
    "    elif a<100: #else if\n",
    "        print(\"<100\")\n",
    "else:\n",
    "    print(False)\n",
    "print(\"End\")"
   ]
  },
  {
   "cell_type": "markdown",
   "id": "1522d829",
   "metadata": {},
   "source": [
    "# Even or ODD"
   ]
  },
  {
   "cell_type": "code",
   "execution_count": 42,
   "id": "299a30c5",
   "metadata": {},
   "outputs": [
    {
     "name": "stdout",
     "output_type": "stream",
     "text": [
      "55\n",
      "Odd\n"
     ]
    }
   ],
   "source": [
    "num =eval(input())\n",
    "if num%2==0:\n",
    "    print(\"Even\")\n",
    "else:\n",
    "    print(\"Odd\")"
   ]
  },
  {
   "cell_type": "markdown",
   "id": "281a4fee",
   "metadata": {},
   "source": [
    "# Read 3 numbers and print largest among them"
   ]
  },
  {
   "cell_type": "code",
   "execution_count": 55,
   "id": "b684394e",
   "metadata": {},
   "outputs": [
    {
     "name": "stdout",
     "output_type": "stream",
     "text": [
      "Enter 3 numbers:\n",
      "6\n",
      "15\n",
      "9\n",
      "The largest number is: 15\n",
      "Enter the required number arrangement:Asec/Desc Desc\n",
      "[15, 9, 6]\n"
     ]
    }
   ],
   "source": [
    "print(\"Enter 3 numbers:\")\n",
    "nums =[]\n",
    "for i in range(0,3):\n",
    "    a = int(input())\n",
    "    nums.append(a)\n",
    "nums.sort()\n",
    "print(\"The largest number is:\",nums[2])\n",
    "order=input(\"Enter the required number arrangement:Asec/Desc \")\n",
    "if order==\"Asec\":\n",
    "    print(nums)\n",
    "elif order==\"Desc\":\n",
    "    nums.sort(reverse=True)\n",
    "    print(nums)"
   ]
  },
  {
   "cell_type": "code",
   "execution_count": null,
   "id": "cb4c05ae",
   "metadata": {},
   "outputs": [],
   "source": []
  }
 ],
 "metadata": {
  "kernelspec": {
   "display_name": "Python 3 (ipykernel)",
   "language": "python",
   "name": "python3"
  },
  "language_info": {
   "codemirror_mode": {
    "name": "ipython",
    "version": 3
   },
   "file_extension": ".py",
   "mimetype": "text/x-python",
   "name": "python",
   "nbconvert_exporter": "python",
   "pygments_lexer": "ipython3",
   "version": "3.11.4"
  }
 },
 "nbformat": 4,
 "nbformat_minor": 5
}
