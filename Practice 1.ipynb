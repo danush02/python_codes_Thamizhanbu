{
 "cells": [
  {
   "cell_type": "markdown",
   "id": "4d57c816",
   "metadata": {},
   "source": [
    "# IF Statement"
   ]
  },
  {
   "cell_type": "code",
   "execution_count": 1,
   "id": "c0ad0ecc",
   "metadata": {},
   "outputs": [
    {
     "name": "stdout",
     "output_type": "stream",
     "text": [
      "Start of Prog\n"
     ]
    }
   ],
   "source": [
    "print(\"Start of Prog\")\n",
    "a=int(input(\"Enter Input:\")) # Without type casting default input type will be string\n",
    "if type(a)==str:\n",
    "    if (a+4)<=9:\n",
    "        print(True)\n",
    "    elif a<100: #else if\n",
    "        print(\"<100\")\n",
    "else:\n",
    "    print(False)\n",
    "print(\"End\")"
   ]
  },
  {
   "cell_type": "markdown",
   "id": "1522d829",
   "metadata": {},
   "source": [
    "# Even or ODD"
   ]
  },
  {
   "cell_type": "code",
   "execution_count": null,
   "id": "299a30c5",
   "metadata": {},
   "outputs": [
    {
     "name": "stdout",
     "output_type": "stream",
     "text": [
      "55\n",
      "Odd\n"
     ]
    }
   ],
   "source": [
    "num =eval(input())\n",
    "if num%2==0:\n",
    "    print(\"Even\")\n",
    "else:\n",
    "    print(\"Odd\")"
   ]
  },
  {
   "cell_type": "markdown",
   "id": "281a4fee",
   "metadata": {},
   "source": [
    "# Read 3 numbers and print largest among them"
   ]
  },
  {
   "cell_type": "code",
   "execution_count": null,
   "id": "b684394e",
   "metadata": {},
   "outputs": [
    {
     "name": "stdout",
     "output_type": "stream",
     "text": [
      "Enter 3 numbers:\n",
      "6\n",
      "15\n",
      "9\n",
      "The largest number is: 15\n",
      "Enter the required number arrangement:Asec/Desc Desc\n",
      "[15, 9, 6]\n"
     ]
    }
   ],
   "source": [
    "print(\"Enter 3 numbers:\")\n",
    "nums =[]\n",
    "for i in range(0,3):\n",
    "    a = int(input())\n",
    "    nums.append(a)\n",
    "nums.sort()\n",
    "print(\"The largest number is:\",nums[2])\n",
    "order=input(\"Enter the required number arrangement:Asec/Desc \")\n",
    "if order==\"Asec\":\n",
    "    print(nums)\n",
    "elif order==\"Desc\":\n",
    "    nums.sort(reverse=True)\n",
    "    print(nums)"
   ]
  },
  {
   "cell_type": "markdown",
   "id": "a3980646",
   "metadata": {},
   "source": [
    "# String Functions"
   ]
  },
  {
   "cell_type": "code",
   "execution_count": null,
   "id": "3ed036ac",
   "metadata": {},
   "outputs": [
    {
     "name": "stdout",
     "output_type": "stream",
     "text": [
      "H\n",
      "e\n",
      "l\n",
      "l\n",
      "o\n",
      " \n",
      "b\n",
      "r\n",
      "o\n",
      "*list[1, 2, 3, 5]\n",
      "  Life in Lavasa is \n",
      " Great!  \n",
      "30\n",
      "Life in Lavasa is \n",
      " Great!\n"
     ]
    }
   ],
   "source": [
    "prnt = \"  Life in Lavasa is \\n Great!  \" # \\n for new print line\n",
    "print(prnt)\n",
    "print(len(prnt)) #Get no. of character\n",
    "prnt=prnt.strip() #Remove preceeding spaces and space in the end\n",
    "print(prnt)"
   ]
  },
  {
   "cell_type": "markdown",
   "id": "fad9d08d",
   "metadata": {},
   "source": [
    "# For Loop and List"
   ]
  },
  {
   "cell_type": "code",
   "execution_count": null,
   "id": "8906f843",
   "metadata": {},
   "outputs": [
    {
     "name": "stdout",
     "output_type": "stream",
     "text": [
      "H\n",
      "e\n",
      "l\n",
      "l\n",
      "o\n",
      " \n",
      "b\n",
      "r\n",
      "o\n",
      "\n",
      "\n",
      "a\n",
      "cla\n",
      "3\n",
      "5.5\n",
      "-4\n",
      "acla\n",
      "5\n"
     ]
    }
   ],
   "source": [
    "# for variable in ():\n",
    "\n",
    "for a in (\"Hello bro\\n\"):\n",
    "    print(a)\n",
    "lst=[\"a\",\"cla\",3,5.5,-4] #Can take any type of variable\n",
    "for a in lst:\n",
    "    print(a)\n",
    "for a in range(-1,-11,1): # Range(start num,<last num,Increment) -> Num can also be in negative\n",
    "    print(\"\\n\",a)\n",
    "print(lst[0]+lst[1])\n",
    "print(len(lst)) #Size of list"
   ]
  },
  {
   "cell_type": "markdown",
   "id": "2f30bb81",
   "metadata": {},
   "source": [
    "# List"
   ]
  },
  {
   "cell_type": "code",
   "execution_count": null,
   "id": "a4335f55",
   "metadata": {},
   "outputs": [
    {
     "name": "stdout",
     "output_type": "stream",
     "text": [
      "Enter the number of inputs2\n",
      "5\n",
      "6\n",
      "\n",
      " ['5', '6']\n"
     ]
    }
   ],
   "source": [
    "#Get List value as input\n",
    "n=int(input(\"Enter the number of inputs\"))\n",
    "lst=[]\n",
    "for i in range(0,n,1):\n",
    "    a=input()\n",
    "    lst.append(a)\n",
    "print(\"\\n\",lst)"
   ]
  },
  {
   "cell_type": "markdown",
   "id": "c15ce556",
   "metadata": {},
   "source": [
    "# String Operations"
   ]
  },
  {
   "cell_type": "code",
   "execution_count": null,
   "id": "3aba88cf",
   "metadata": {},
   "outputs": [
    {
     "name": "stdout",
     "output_type": "stream",
     "text": [
      "12 34 My name is Thamizh\n",
      "1234\n",
      "12 34 MY NAME IS THAMIZH\n",
      "12 34 my name is thamizh\n",
      "12 34 mY NAME IS tHAMIZH\n",
      "y\n",
      "12 34 M\n"
     ]
    }
   ],
   "source": [
    "a=\"12 34 My name is Thamizh\"\n",
    "print(a.strip())\n",
    "print(a.split(' ')[0]+a.split(' ')[1])\n",
    "print(a.upper())\n",
    "print(a.lower())\n",
    "print(a.swapcase())\n",
    "print(a[7])# String Slicing\n",
    "print(a[:7]) #till 7th place"
   ]
  },
  {
   "cell_type": "markdown",
   "id": "9b335e49",
   "metadata": {},
   "source": [
    "Function takes list of numbers as input and the sum of numbers"
   ]
  },
  {
   "cell_type": "code",
   "execution_count": 1,
   "id": "70cf515b",
   "metadata": {},
   "outputs": [
    {
     "name": "stdout",
     "output_type": "stream",
     "text": [
      "983\n"
     ]
    }
   ],
   "source": [
    "num = [2,34,55,646,78,89,23,56]\n",
    "sum=0\n",
    "for i in num:\n",
    "    sum=sum+i\n",
    "print(sum)"
   ]
  },
  {
   "cell_type": "markdown",
   "id": "22a0e081",
   "metadata": {},
   "source": [
    "Getting comma seperated values as input"
   ]
  },
  {
   "cell_type": "code",
   "execution_count": 8,
   "id": "48677c81",
   "metadata": {},
   "outputs": [
    {
     "name": "stdout",
     "output_type": "stream",
     "text": [
      "3\n"
     ]
    }
   ],
   "source": [
    "def sumValues(nums):\n",
    "    val=nums.split(\",\") #split the input using deliminator and store it as list\n",
    "    sum=0\n",
    "    for i in val:\n",
    "        j=int(i)\n",
    "        sum=sum+j\n",
    "    return sum\n",
    "nums=input()\n",
    "print(sumValues(nums))\n"
   ]
  },
  {
   "cell_type": "markdown",
   "id": "800af285",
   "metadata": {},
   "source": [
    "Count ODD and EVEN numbers"
   ]
  },
  {
   "cell_type": "code",
   "execution_count": 12,
   "id": "8fc9a98e",
   "metadata": {},
   "outputs": [
    {
     "name": "stdout",
     "output_type": "stream",
     "text": [
      "Odd List [1, 3, 5] \n",
      "Even List [2, 4, 6] \n",
      "Even count- 3 \n",
      "Even count- 3\n"
     ]
    }
   ],
   "source": [
    "def coutOnE(val):\n",
    "    odd=[]\n",
    "    even=[]\n",
    "    countoe=0\n",
    "    countoo=0\n",
    "    for i in val:\n",
    "        j=int(i)\n",
    "        if j%2==0:\n",
    "            even.append(j)\n",
    "            countoe=countoe+1\n",
    "        else:\n",
    "            odd.append(j)\n",
    "            countoo=countoo+1\n",
    "    return odd, even, countoe, countoo\n",
    "temp=input()\n",
    "val=temp.split(\",\")\n",
    "odd, even, countoe, countoo = coutOnE(val)\n",
    "print(\"Odd List\",odd,\"\\nEven List\", even,\"\\nEven count-\",countoe,\"\\nEven count-\",countoo)"
   ]
  }
 ],
 "metadata": {
  "kernelspec": {
   "display_name": "Python 3 (ipykernel)",
   "language": "python",
   "name": "python3"
  },
  "language_info": {
   "codemirror_mode": {
    "name": "ipython",
    "version": 3
   },
   "file_extension": ".py",
   "mimetype": "text/x-python",
   "name": "python",
   "nbconvert_exporter": "python",
   "pygments_lexer": "ipython3",
   "version": "3.11.4"
  }
 },
 "nbformat": 4,
 "nbformat_minor": 5
}
