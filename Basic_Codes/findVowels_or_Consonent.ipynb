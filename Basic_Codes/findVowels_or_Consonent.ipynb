{
 "cells": [
  {
   "cell_type": "markdown",
   "metadata": {},
   "source": [
    "To find vowels in a string"
   ]
  },
  {
   "cell_type": "code",
   "execution_count": 8,
   "metadata": {},
   "outputs": [
    {
     "name": "stdout",
     "output_type": "stream",
     "text": [
      "Count 0\n",
      "There is no vowels in string\n"
     ]
    }
   ],
   "source": [
    "def find_vowels(input_string):\n",
    "    vowels=[\"a\",\"e\",\"i\",\"o\",\"u\"] #all vowels\n",
    "    flag=0\n",
    "    count=0\n",
    "    for i in input_string: #check each character in a string\n",
    "        if i in vowels: #to check charater is a vowel\n",
    "            print(i)\n",
    "            flag=1\n",
    "            count+=1 #count total number of vowels\n",
    "    print(\"Count\",count)\n",
    "    if flag==0:\n",
    "        print(\"There is no vowels in string\")\n",
    "    \n",
    "# Example usage\n",
    "user_input = input(\"Enter a string: \").lower()\n",
    "find_vowels(user_input)\n"
   ]
  },
  {
   "cell_type": "markdown",
   "metadata": {},
   "source": [
    "To find consonent in a string"
   ]
  },
  {
   "cell_type": "code",
   "execution_count": 3,
   "metadata": {},
   "outputs": [
    {
     "name": "stdout",
     "output_type": "stream",
     "text": [
      "n\n",
      "Count 1\n"
     ]
    }
   ],
   "source": [
    "def find_consonent(input_string):\n",
    "    vowels=[\"a\",\"e\",\"i\",\"o\",\"u\"] #all vowels\n",
    "    count=0\n",
    "    for i in input_string: #check each character in a string\n",
    "        if i in vowels: \n",
    "            pass\n",
    "        else: #consonent will come here\n",
    "            print(i)\n",
    "            count+=1 #count total number of consonent\n",
    "\n",
    "    print(\"Count\",count)\n",
    "    if count==0:\n",
    "        print(\"There is no consonent in string\")\n",
    "    \n",
    "# Example usage\n",
    "user_input = input(\"Enter a string: \").lower()\n",
    "find_consonent(user_input)\n"
   ]
  },
  {
   "cell_type": "markdown",
   "metadata": {},
   "source": [
    "Split vowel and Consonent"
   ]
  }
 ],
 "metadata": {
  "kernelspec": {
   "display_name": "Python 3",
   "language": "python",
   "name": "python3"
  },
  "language_info": {
   "codemirror_mode": {
    "name": "ipython",
    "version": 3
   },
   "file_extension": ".py",
   "mimetype": "text/x-python",
   "name": "python",
   "nbconvert_exporter": "python",
   "pygments_lexer": "ipython3",
   "version": "3.11.4"
  }
 },
 "nbformat": 4,
 "nbformat_minor": 2
}
