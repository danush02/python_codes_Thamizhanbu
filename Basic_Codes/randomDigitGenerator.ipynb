{
 "cells": [
  {
   "cell_type": "markdown",
   "metadata": {},
   "source": [
    "Program to generate 5 digit random number"
   ]
  },
  {
   "cell_type": "code",
   "execution_count": 1,
   "metadata": {},
   "outputs": [
    {
     "name": "stdout",
     "output_type": "stream",
     "text": [
      "11282\n"
     ]
    }
   ],
   "source": [
    "import random\n",
    "\n",
    "def generate_random_5_digit():\n",
    "    randNum=[]\n",
    "    for i in range(0,5): #Loop Run 5 times to generate 5 single digit Random numbers\n",
    "        randNum.append(random.randint(0,9)) #Each random digit is appended to list\n",
    "    return (str(randNum[0])+str(randNum[1])+str(randNum[2])+str(randNum[3])+str(randNum[4])) #Number in list is accessed using index,converted to string to concat and return to main function\n",
    "# Generate and print a random 5-digit number with digits from 0 to 9\n",
    "\n",
    "random_number = generate_random_5_digit()\n",
    "print(random_number)\n",
    "\n",
    " "
   ]
  }
 ],
 "metadata": {
  "kernelspec": {
   "display_name": "Python 3",
   "language": "python",
   "name": "python3"
  },
  "language_info": {
   "codemirror_mode": {
    "name": "ipython",
    "version": 3
   },
   "file_extension": ".py",
   "mimetype": "text/x-python",
   "name": "python",
   "nbconvert_exporter": "python",
   "pygments_lexer": "ipython3",
   "version": "3.11.4"
  }
 },
 "nbformat": 4,
 "nbformat_minor": 2
}
