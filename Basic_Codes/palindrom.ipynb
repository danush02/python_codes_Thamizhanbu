{
 "cells": [
  {
   "cell_type": "markdown",
   "metadata": {},
   "source": [
    "To check palindrome of a string"
   ]
  },
  {
   "cell_type": "code",
   "execution_count": 8,
   "metadata": {},
   "outputs": [
    {
     "name": "stdout",
     "output_type": "stream",
     "text": [
      "Yes\n"
     ]
    }
   ],
   "source": [
    "# function which return reverse of a string\n",
    "def isPalindrome(s):\n",
    "\treturn s == s[::-1]\n",
    "\n",
    "\n",
    "# Driver code\n",
    "s = input(\"Enter a word\").lower()\n",
    "ans = isPalindrome(s)\n",
    "\n",
    "if ans:\n",
    "\tprint(\"Yes\")\n",
    "else:\n",
    "\tprint(\"No\")\n"
   ]
  }
 ],
 "metadata": {
  "kernelspec": {
   "display_name": "Python 3",
   "language": "python",
   "name": "python3"
  },
  "language_info": {
   "codemirror_mode": {
    "name": "ipython",
    "version": 3
   },
   "file_extension": ".py",
   "mimetype": "text/x-python",
   "name": "python",
   "nbconvert_exporter": "python",
   "pygments_lexer": "ipython3",
   "version": "3.11.4"
  }
 },
 "nbformat": 4,
 "nbformat_minor": 2
}
