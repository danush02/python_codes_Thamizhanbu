{
 "cells": [
  {
   "cell_type": "code",
   "execution_count": 2,
   "metadata": {},
   "outputs": [
    {
     "name": "stdout",
     "output_type": "stream",
     "text": [
      "Collecting seaborn\n",
      "  Downloading seaborn-0.13.0-py3-none-any.whl (294 kB)\n",
      "                                              0.0/294.6 kB ? eta -:--:--\n",
      "                                              0.0/294.6 kB ? eta -:--:--\n",
      "     -                                        10.2/294.6 kB ? eta -:--:--\n",
      "     -                                        10.2/294.6 kB ? eta -:--:--\n",
      "     ---                                   30.7/294.6 kB 187.9 kB/s eta 0:00:02\n",
      "     -----                                 41.0/294.6 kB 196.9 kB/s eta 0:00:02\n",
      "     -----                                 41.0/294.6 kB 196.9 kB/s eta 0:00:02\n",
      "     -----                                 41.0/294.6 kB 196.9 kB/s eta 0:00:02\n",
      "     -----                                 41.0/294.6 kB 196.9 kB/s eta 0:00:02\n",
      "     -----                                 41.0/294.6 kB 196.9 kB/s eta 0:00:02\n",
      "     -------------                        112.6/294.6 kB 252.2 kB/s eta 0:00:01\n",
      "     -------------                        112.6/294.6 kB 252.2 kB/s eta 0:00:01\n",
      "     ---------------                      122.9/294.6 kB 232.7 kB/s eta 0:00:01\n",
      "     ---------------                      122.9/294.6 kB 232.7 kB/s eta 0:00:01\n",
      "     -----------------                    143.4/294.6 kB 236.9 kB/s eta 0:00:01\n",
      "     -----------------                    143.4/294.6 kB 236.9 kB/s eta 0:00:01\n",
      "     ------------------                   153.6/294.6 kB 213.3 kB/s eta 0:00:01\n",
      "     ------------------                   153.6/294.6 kB 213.3 kB/s eta 0:00:01\n",
      "     ---------------------                174.1/294.6 kB 214.2 kB/s eta 0:00:01\n",
      "     ---------------------                174.1/294.6 kB 214.2 kB/s eta 0:00:01\n",
      "     -----------------------              194.6/294.6 kB 214.6 kB/s eta 0:00:01\n",
      "     -----------------------              194.6/294.6 kB 214.6 kB/s eta 0:00:01\n",
      "     -------------------------            204.8/294.6 kB 197.7 kB/s eta 0:00:01\n",
      "     ---------------------------          225.3/294.6 kB 205.4 kB/s eta 0:00:01\n",
      "     ---------------------------          225.3/294.6 kB 205.4 kB/s eta 0:00:01\n",
      "     ---------------------------          225.3/294.6 kB 205.4 kB/s eta 0:00:01\n",
      "     ----------------------------         235.5/294.6 kB 194.9 kB/s eta 0:00:01\n",
      "     ----------------------------         235.5/294.6 kB 194.9 kB/s eta 0:00:01\n",
      "     ----------------------------         235.5/294.6 kB 194.9 kB/s eta 0:00:01\n",
      "     -------------------------------      256.0/294.6 kB 187.3 kB/s eta 0:00:01\n",
      "     -------------------------------      256.0/294.6 kB 187.3 kB/s eta 0:00:01\n",
      "     -------------------------------      256.0/294.6 kB 187.3 kB/s eta 0:00:01\n",
      "     ---------------------------------    276.5/294.6 kB 185.3 kB/s eta 0:00:01\n",
      "     -----------------------------------  286.7/294.6 kB 182.5 kB/s eta 0:00:01\n",
      "     -----------------------------------  286.7/294.6 kB 182.5 kB/s eta 0:00:01\n",
      "     ------------------------------------ 294.6/294.6 kB 180.2 kB/s eta 0:00:00\n",
      "Requirement already satisfied: numpy!=1.24.0,>=1.20 in c:\\users\\user\\appdata\\local\\programs\\python\\python311\\lib\\site-packages (from seaborn) (1.26.0)\n",
      "Requirement already satisfied: pandas>=1.2 in c:\\users\\user\\appdata\\local\\programs\\python\\python311\\lib\\site-packages (from seaborn) (2.1.1)\n",
      "Requirement already satisfied: matplotlib!=3.6.1,>=3.3 in c:\\users\\user\\appdata\\local\\programs\\python\\python311\\lib\\site-packages (from seaborn) (3.8.0)\n",
      "Requirement already satisfied: contourpy>=1.0.1 in c:\\users\\user\\appdata\\local\\programs\\python\\python311\\lib\\site-packages (from matplotlib!=3.6.1,>=3.3->seaborn) (1.1.1)\n",
      "Requirement already satisfied: cycler>=0.10 in c:\\users\\user\\appdata\\local\\programs\\python\\python311\\lib\\site-packages (from matplotlib!=3.6.1,>=3.3->seaborn) (0.12.0)\n",
      "Requirement already satisfied: fonttools>=4.22.0 in c:\\users\\user\\appdata\\local\\programs\\python\\python311\\lib\\site-packages (from matplotlib!=3.6.1,>=3.3->seaborn) (4.43.0)\n",
      "Requirement already satisfied: kiwisolver>=1.0.1 in c:\\users\\user\\appdata\\local\\programs\\python\\python311\\lib\\site-packages (from matplotlib!=3.6.1,>=3.3->seaborn) (1.4.5)\n",
      "Requirement already satisfied: packaging>=20.0 in c:\\users\\user\\appdata\\roaming\\python\\python311\\site-packages (from matplotlib!=3.6.1,>=3.3->seaborn) (23.1)\n",
      "Requirement already satisfied: pillow>=6.2.0 in c:\\users\\user\\appdata\\local\\programs\\python\\python311\\lib\\site-packages (from matplotlib!=3.6.1,>=3.3->seaborn) (10.0.1)\n",
      "Requirement already satisfied: pyparsing>=2.3.1 in c:\\users\\user\\appdata\\local\\programs\\python\\python311\\lib\\site-packages (from matplotlib!=3.6.1,>=3.3->seaborn) (3.1.1)\n",
      "Requirement already satisfied: python-dateutil>=2.7 in c:\\users\\user\\appdata\\roaming\\python\\python311\\site-packages (from matplotlib!=3.6.1,>=3.3->seaborn) (2.8.2)\n",
      "Requirement already satisfied: pytz>=2020.1 in c:\\users\\user\\appdata\\local\\programs\\python\\python311\\lib\\site-packages (from pandas>=1.2->seaborn) (2023.3.post1)\n",
      "Requirement already satisfied: tzdata>=2022.1 in c:\\users\\user\\appdata\\local\\programs\\python\\python311\\lib\\site-packages (from pandas>=1.2->seaborn) (2023.3)\n",
      "Requirement already satisfied: six>=1.5 in c:\\users\\user\\appdata\\roaming\\python\\python311\\site-packages (from python-dateutil>=2.7->matplotlib!=3.6.1,>=3.3->seaborn) (1.16.0)\n",
      "Installing collected packages: seaborn\n",
      "Successfully installed seaborn-0.13.0\n",
      "Note: you may need to restart the kernel to use updated packages.\n"
     ]
    },
    {
     "name": "stderr",
     "output_type": "stream",
     "text": [
      "\n",
      "[notice] A new release of pip is available: 23.1.2 -> 23.2.1\n",
      "[notice] To update, run: python.exe -m pip install --upgrade pip\n"
     ]
    }
   ],
   "source": [
    "pip install seaborn"
   ]
  },
  {
   "cell_type": "code",
   "execution_count": 9,
   "metadata": {},
   "outputs": [
    {
     "data": {
      "text/plain": [
       "<Axes: xlabel='date', ylabel=\"bachelor's_degree\">"
      ]
     },
     "execution_count": 9,
     "metadata": {},
     "output_type": "execute_result"
    },
    {
     "data": {
      "image/png": "[encoded data removed]",
      "text/plain": [
       "<Figure size 640x480 with 1 Axes>"
      ]
     },
     "metadata": {},
     "output_type": "display_data"
    }
   ],
   "source": [
    "# Import seaborn\n",
    "import seaborn as sns\n",
    "import pandas as pd\n",
    "import matplotlib as mlt\n",
    "\n",
    "sns.set_theme(style=\"darkgrid\")\n",
    "\n",
    "df = pd.read_csv('unemployed_population_1978-12_to_2023-07.csv')\n",
    "\n",
    "sns.barplot(x=\"date\", y=\"bachelor's_degree\",data=df)\n"
   ]
  }
 ],
 "metadata": {
  "kernelspec": {
   "display_name": "Python 3",
   "language": "python",
   "name": "python3"
  },
  "language_info": {
   "codemirror_mode": {
    "name": "ipython",
    "version": 3
   },
   "file_extension": ".py",
   "mimetype": "text/x-python",
   "name": "python",
   "nbconvert_exporter": "python",
   "pygments_lexer": "ipython3",
   "version": "3.11.4"
  }
 },
 "nbformat": 4,
 "nbformat_minor": 2
}
