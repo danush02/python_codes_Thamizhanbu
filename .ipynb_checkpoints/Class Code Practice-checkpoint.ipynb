{
 "cells": [
  {
   "cell_type": "markdown",
   "id": "4d57c816",
   "metadata": {},
   "source": [
    "# IF Statement"
   ]
  },
  {
   "cell_type": "code",
   "execution_count": 1,
   "id": "c0ad0ecc",
   "metadata": {},
   "outputs": [
    {
     "name": "stdout",
     "output_type": "stream",
     "text": [
      "Start of Prog\n"
     ]
    }
   ],
   "source": [
    "print(\"Start of Prog\")\n",
    "a=int(input(\"Enter Input:\")) # Without type casting default input type will be string\n",
    "if type(a)==str:\n",
    "    if (a+4)<=9:\n",
    "        print(True)\n",
    "    elif a<100: #else if\n",
    "        print(\"<100\")\n",
    "else:\n",
    "    print(False)\n",
    "print(\"End\")"
   ]
  },
  {
   "cell_type": "markdown",
   "id": "1522d829",
   "metadata": {},
   "source": [
    "# Even or ODD"
   ]
  },
  {
   "cell_type": "code",
   "execution_count": null,
   "id": "299a30c5",
   "metadata": {},
   "outputs": [
    {
     "name": "stdout",
     "output_type": "stream",
     "text": [
      "55\n",
      "Odd\n"
     ]
    }
   ],
   "source": [
    "num =eval(input())\n",
    "if num%2==0:\n",
    "    print(\"Even\")\n",
    "else:\n",
    "    print(\"Odd\")"
   ]
  },
  {
   "cell_type": "markdown",
   "id": "281a4fee",
   "metadata": {},
   "source": [
    "# Read 3 numbers and print largest among them"
   ]
  },
  {
   "cell_type": "code",
   "execution_count": null,
   "id": "b684394e",
   "metadata": {},
   "outputs": [
    {
     "name": "stdout",
     "output_type": "stream",
     "text": [
      "Enter 3 numbers:\n",
      "6\n",
      "15\n",
      "9\n",
      "The largest number is: 15\n",
      "Enter the required number arrangement:Asec/Desc Desc\n",
      "[15, 9, 6]\n"
     ]
    }
   ],
   "source": [
    "print(\"Enter 3 numbers:\")\n",
    "nums =[]\n",
    "for i in range(0,3):\n",
    "    a = int(input())\n",
    "    nums.append(a)\n",
    "nums.sort()\n",
    "print(\"The largest number is:\",nums[2])\n",
    "order=input(\"Enter the required number arrangement:Asec/Desc \")\n",
    "if order==\"Asec\":\n",
    "    print(nums)\n",
    "elif order==\"Desc\":\n",
    "    nums.sort(reverse=True)\n",
    "    print(nums)"
   ]
  },
  {
   "cell_type": "markdown",
   "id": "a3980646",
   "metadata": {},
   "source": [
    "# String Functions"
   ]
  },
  {
   "cell_type": "code",
   "execution_count": null,
   "id": "3ed036ac",
   "metadata": {},
   "outputs": [
    {
     "name": "stdout",
     "output_type": "stream",
     "text": [
      "H\n",
      "e\n",
      "l\n",
      "l\n",
      "o\n",
      " \n",
      "b\n",
      "r\n",
      "o\n",
      "*list[1, 2, 3, 5]\n",
      "  Life in Lavasa is \n",
      " Great!  \n",
      "30\n",
      "Life in Lavasa is \n",
      " Great!\n"
     ]
    }
   ],
   "source": [
    "prnt = \"  Life in Lavasa is \\n Great!  \" # \\n for new print line\n",
    "print(prnt)\n",
    "print(len(prnt)) #Get no. of character\n",
    "prnt=prnt.strip() #Remove preceeding spaces and space in the end\n",
    "print(prnt)"
   ]
  },
  {
   "cell_type": "markdown",
   "id": "fad9d08d",
   "metadata": {},
   "source": [
    "# For Loop and List"
   ]
  },
  {
   "cell_type": "code",
   "execution_count": null,
   "id": "8906f843",
   "metadata": {},
   "outputs": [
    {
     "name": "stdout",
     "output_type": "stream",
     "text": [
      "H\n",
      "e\n",
      "l\n",
      "l\n",
      "o\n",
      " \n",
      "b\n",
      "r\n",
      "o\n",
      "\n",
      "\n",
      "a\n",
      "cla\n",
      "3\n",
      "5.5\n",
      "-4\n",
      "acla\n",
      "5\n"
     ]
    }
   ],
   "source": [
    "# for variable in ():\n",
    "\n",
    "for a in (\"Hello bro\\n\"):\n",
    "    print(a)\n",
    "lst=[\"a\",\"cla\",3,5.5,-4] #Can take any type of variable\n",
    "for a in lst:\n",
    "    print(a)\n",
    "for a in range(-1,-11,1): # Range(start num,<last num,Increment) -> Num can also be in negative\n",
    "    print(\"\\n\",a)\n",
    "print(lst[0]+lst[1])\n",
    "print(len(lst)) #Size of list"
   ]
  },
  {
   "cell_type": "markdown",
   "id": "2f30bb81",
   "metadata": {},
   "source": [
    "# List"
   ]
  },
  {
   "cell_type": "code",
   "execution_count": null,
   "id": "a4335f55",
   "metadata": {},
   "outputs": [
    {
     "name": "stdout",
     "output_type": "stream",
     "text": [
      "Enter the number of inputs2\n",
      "5\n",
      "6\n",
      "\n",
      " ['5', '6']\n"
     ]
    }
   ],
   "source": [
    "#Get List value as input\n",
    "n=int(input(\"Enter the number of inputs\"))\n",
    "lst=[]\n",
    "for i in range(0,n,1):\n",
    "    a=input()\n",
    "    lst.append(a)\n",
    "print(\"\\n\",lst)"
   ]
  },
  {
   "cell_type": "markdown",
   "id": "c15ce556",
   "metadata": {},
   "source": [
    "# String Operations"
   ]
  },
  {
   "cell_type": "code",
   "execution_count": 16,
   "id": "3aba88cf",
   "metadata": {},
   "outputs": [
    {
     "name": "stdout",
     "output_type": "stream",
     "text": [
      "12 34 My name is Thamizh\n",
      "1234\n",
      "12 34 MY NAME IS THAMIZH \n",
      "12 34 my name is thamizh \n",
      "12 34 mY NAME IS tHAMIZH \n",
      "y\n",
      "12 34 M\n"
     ]
    }
   ],
   "source": [
    "a=\"12 34 My name is Thamizh \"\n",
    "print(a.strip())\n",
    "print(a.split(' ')[0]+a.split(' ')[1])\n",
    "print(a.upper())\n",
    "print(a.lower())\n",
    "print(a.swapcase())\n",
    "print(a[7])# String Slicing\n",
    "print(a[:7]) #till 7th place"
   ]
  },
  {
   "cell_type": "markdown",
   "id": "9b335e49",
   "metadata": {},
   "source": [
    "Function takes list of numbers as input and the sum of numbers"
   ]
  },
  {
   "cell_type": "code",
   "execution_count": 1,
   "id": "70cf515b",
   "metadata": {},
   "outputs": [
    {
     "name": "stdout",
     "output_type": "stream",
     "text": [
      "983\n"
     ]
    }
   ],
   "source": [
    "num = [2,34,55,646,78,89,23,56]\n",
    "sum=0\n",
    "for i in num:\n",
    "    sum=sum+i\n",
    "print(sum)"
   ]
  },
  {
   "cell_type": "markdown",
   "id": "22a0e081",
   "metadata": {},
   "source": [
    "Getting comma seperated values as input"
   ]
  },
  {
   "cell_type": "code",
   "execution_count": 8,
   "id": "48677c81",
   "metadata": {},
   "outputs": [
    {
     "name": "stdout",
     "output_type": "stream",
     "text": [
      "3\n"
     ]
    }
   ],
   "source": [
    "def sumValues(nums):\n",
    "    val=nums.split(\",\") #split the input using deliminator and store it as list\n",
    "    sum=0\n",
    "    for i in val:\n",
    "        j=int(i)\n",
    "        sum=sum+j\n",
    "    return sum\n",
    "nums=input()\n",
    "print(sumValues(nums))\n"
   ]
  },
  {
   "cell_type": "markdown",
   "id": "800af285",
   "metadata": {},
   "source": [
    "Count ODD and EVEN numbers"
   ]
  },
  {
   "cell_type": "code",
   "execution_count": 12,
   "id": "8fc9a98e",
   "metadata": {},
   "outputs": [
    {
     "name": "stdout",
     "output_type": "stream",
     "text": [
      "Odd List [1, 3, 5] \n",
      "Even List [2, 4, 6] \n",
      "Even count- 3 \n",
      "Even count- 3\n"
     ]
    }
   ],
   "source": [
    "def coutOnE(val):\n",
    "    odd=[]\n",
    "    even=[]\n",
    "    countoe=0\n",
    "    countoo=0\n",
    "    for i in val:\n",
    "        j=int(i)\n",
    "        if j%2==0:\n",
    "            even.append(j)\n",
    "            countoe=countoe+1\n",
    "        else:\n",
    "            odd.append(j)\n",
    "            countoo=countoo+1\n",
    "    return odd, even, countoe, countoo\n",
    "temp=input()\n",
    "val=temp.split(\",\")\n",
    "odd, even, countoe, countoo = coutOnE(val)\n",
    "print(\"Odd List\",odd,\"\\nEven List\", even,\"\\nEven count-\",countoe,\"\\nEven count-\",countoo)"
   ]
  },
  {
   "cell_type": "markdown",
   "id": "f32d27ca",
   "metadata": {},
   "source": [
    "# Pseudo code\n",
    "DISPLAY, INPUT, OUTPUT, NUMBER, IF, ELSE, FOR, DO, WHILE DO, BEGIN, END"
   ]
  },
  {
   "cell_type": "markdown",
   "id": "53e8c73f",
   "metadata": {},
   "source": [
    "# General Description\n",
    "**Apps**\n",
    "- DSA - Data Stucture and Algorithms\n",
    "- DBMS - Data Base Management System, used for storing business data and later retrieved for analytical and functional purposes.\n",
    "- Datasets - Datasets are the group of data which holds a relationship to one another\n",
    "- Database - Oracle, SAP, MongoDB\n",
    "- IDE - Integrated development Environment, this platform helps developers to develop code, edit and debug it. Multiple programming language can be used in for coding in IDE\n",
    "\n",
    "**Domains**\n",
    "- Web Dev - this domain is used to develop web based applications that are accessed from a server by a end user\n",
    "- Game Dev - Developing video games that require graphics, coding, hardware\n",
    "- Mobile Apps - Applications that run in mobile OS, each application has its own purpose and it is made dynamic for interaction\n",
    "\n",
    "**API** - Application Programming Interface\n",
    "- Django API -\n",
    "- REST API -"
   ]
  },
  {
   "cell_type": "code",
   "execution_count": 10,
   "id": "baf8ed31",
   "metadata": {},
   "outputs": [
    {
     "name": "stdout",
     "output_type": "stream",
     "text": [
      "120\n"
     ]
    }
   ],
   "source": [
    "ans=1\n",
    "a=int(input(\"Number of Input\"))\n",
    "for i in range(1,a+1):\n",
    "    ans=int(input(\"\\nEnter Number\"))*ans\n",
    "print(ans)"
   ]
  },
  {
   "cell_type": "markdown",
   "id": "54dc68df",
   "metadata": {},
   "source": [
    "# Operations in file"
   ]
  },
  {
   "cell_type": "code",
   "execution_count": 25,
   "id": "7f5379f3",
   "metadata": {},
   "outputs": [],
   "source": [
    "file = open(\"Sample.txt\",\"a+\")\n",
    "#Open a file before any action on it and mention the mode, \n",
    "# w+ writing - replace the exisiting content\n",
    "# a+ appending - append new data with exisiting data\n",
    "# r+ reading - mode to read the content in a file"
   ]
  },
  {
   "cell_type": "code",
   "execution_count": 28,
   "id": "132002c9",
   "metadata": {},
   "outputs": [
    {
     "data": {
      "text/plain": [
       "6"
      ]
     },
     "execution_count": 28,
     "metadata": {},
     "output_type": "execute_result"
    }
   ],
   "source": [
    "file.write(\"Line4\\n\")\n",
    "#Assign open to variable and call the variable to write in it"
   ]
  },
  {
   "cell_type": "code",
   "execution_count": 32,
   "id": "b803007e",
   "metadata": {},
   "outputs": [],
   "source": [
    "file.close()"
   ]
  },
  {
   "cell_type": "code",
   "execution_count": 33,
   "id": "0ea3fee1",
   "metadata": {},
   "outputs": [],
   "source": [
    "file = open(\"Sample.txt\",\"r+\") \n",
    "file.readline() #Readline to read first line only"
   ]
  },
  {
   "cell_type": "code",
   "execution_count": 34,
   "id": "37bc305c",
   "metadata": {},
   "outputs": [
    {
     "data": {
      "text/plain": [
       "['Line1\\n', 'Line2\\n', 'Line3\\n', 'Line4\\n']"
      ]
     },
     "execution_count": 34,
     "metadata": {},
     "output_type": "execute_result"
    }
   ],
   "source": [
    "file.readlines() \n",
    "#After executing readline, readlines will display from 2nd line of the file. If readlines executed first then output will start from first line."
   ]
  },
  {
   "cell_type": "markdown",
   "id": "ab9dc1fa",
   "metadata": {},
   "source": [
    "Write a function, that accepts your details and save into a file"
   ]
  },
  {
   "cell_type": "code",
   "execution_count": 38,
   "id": "6d667522",
   "metadata": {},
   "outputs": [
    {
     "name": "stdout",
     "output_type": "stream",
     "text": [
      "Detailes saved in file successfully\n"
     ]
    },
    {
     "data": {
      "text/plain": [
       "['Name:\\tTam\\n', 'Email:\\tdgd\\n', 'Phone:\\ttdfg']"
      ]
     },
     "execution_count": 38,
     "metadata": {},
     "output_type": "execute_result"
    }
   ],
   "source": [
    "def writeFile(name,email,phone):\n",
    "    detailfile=open(name+\".txt\",\"w+\")\n",
    "    detailfile.write(\"Name:\\t\"+name)\n",
    "    detailfile.write(\"\\nEmail:\\t\"+email+\"\\nPhone:\\t\"+phone)\n",
    "    detailfile.close()\n",
    "    return True\n",
    "\n",
    "name=input(\"Enter your name:\")\n",
    "phone=input(\"Enter your phone number:\")\n",
    "email=input(\"Enter your EmailID:\")\n",
    "\n",
    "if writeFile(name,email,phone):\n",
    "    print(\"Detailes saved in file successfully\")    \n",
    "fileop=open(name+\".txt\",\"r+\")\n",
    "fileop.readlines()"
   ]
  },
  {
   "cell_type": "code",
   "execution_count": 2,
   "id": "329994af",
   "metadata": {},
   "outputs": [
    {
     "name": "stdout",
     "output_type": "stream",
     "text": [
      "30\n"
     ]
    }
   ],
   "source": [
    "items=[\"dish1\",\"dish2\",\"dish3\",\"dish4\",\"dish5\",\"dish6\"]\n",
    "price=[30,40,50,60,45,80]\n",
    "a=input()\n",
    "print(price[items.index(a)])"
   ]
  },
  {
   "cell_type": "code",
   "execution_count": 1,
   "id": "f8854b01",
   "metadata": {},
   "outputs": [],
   "source": [
    "#Alternative for file open and write\n",
    "with open(\"Sample.txt\",\"w+\") as file:\n",
    "    file.write(\"Anbu\")"
   ]
  },
  {
   "cell_type": "markdown",
   "id": "d521b0cf",
   "metadata": {},
   "source": [
    "# While Loop"
   ]
  },
  {
   "cell_type": "code",
   "execution_count": 5,
   "id": "938e2e72",
   "metadata": {},
   "outputs": [],
   "source": [
    "a=0\n",
    "while a in range(1,10,1):\n",
    "    print(a)"
   ]
  },
  {
   "cell_type": "markdown",
   "id": "749c735e",
   "metadata": {},
   "source": [
    "# Break, Pass, Continue"
   ]
  },
  {
   "cell_type": "code",
   "execution_count": 9,
   "id": "00a38401",
   "metadata": {},
   "outputs": [
    {
     "name": "stdout",
     "output_type": "stream",
     "text": [
      "1\n",
      "2\n",
      "4\n",
      "5\n",
      "6\n",
      "7\n"
     ]
    }
   ],
   "source": [
    "for i in range(1,10,1):\n",
    "    if i==8:\n",
    "        break\n",
    "    elif i==3:\n",
    "        continue\n",
    "    else:\n",
    "        pass\n",
    "    print(i)"
   ]
  },
  {
   "cell_type": "markdown",
   "id": "a0a592f4",
   "metadata": {},
   "source": [
    "# Set - Used to obtain unique item"
   ]
  },
  {
   "cell_type": "code",
   "execution_count": 13,
   "id": "9260fb9d",
   "metadata": {},
   "outputs": [
    {
     "name": "stdout",
     "output_type": "stream",
     "text": [
      "{1, 2, 'add', 'sub', 'div'}\n",
      "{1, 2, 'add', 'sub', 'div'}\n"
     ]
    }
   ],
   "source": [
    "liste=[\"add\",\"sub\",1,2,1,\"add\",\"div\",\"div\"]\n",
    "sete=set(liste)\n",
    "print(sete)\n",
    "print(sete)"
   ]
  },
  {
   "cell_type": "markdown",
   "id": "ecb627e0",
   "metadata": {},
   "source": [
    "Write a program to accept 10 random strings identify the unique items and their count"
   ]
  },
  {
   "cell_type": "code",
   "execution_count": 21,
   "id": "ee5a8464",
   "metadata": {},
   "outputs": [
    {
     "name": "stdout",
     "output_type": "stream",
     "text": [
      "['T', 'T', 'U', 'U', 'P', 'P', 'L', 'L', 'H', 'H']\n",
      "P  is present  2  time in list\n",
      "T  is present  2  time in list\n",
      "H  is present  2  time in list\n",
      "U  is present  2  time in list\n",
      "L  is present  2  time in list\n"
     ]
    }
   ],
   "source": [
    "words=[0]*10\n",
    "for i in range(0,10):\n",
    "    words[i]=input()\n",
    "    words[i]=words[i].strip()\n",
    "    words[i]=words[i].upper()\n",
    "print(words)\n",
    "setw=set(words)\n",
    "for i in setw:\n",
    "    count=0\n",
    "    for j in words:\n",
    "        if i==j:\n",
    "            count = count+1\n",
    "    print(i,\" is present \",count,\" time in list\")\n"
   ]
  },
  {
   "cell_type": "markdown",
   "id": "576dccac",
   "metadata": {},
   "source": [
    "# Use of Dictionary"
   ]
  },
  {
   "cell_type": "code",
   "execution_count": 3,
   "id": "c106c7d3",
   "metadata": {},
   "outputs": [
    {
     "name": "stdout",
     "output_type": "stream",
     "text": [
      "Anbu\n",
      "{'Name': 'Anbu', 'Age': 22, 'Hobby': ['Photo', 'Art'], 'BoolVal': True}\n",
      "{'Name': 'Thamizh', 'Age': 22, 'Hobby': ['Photo', 'Art'], 'BoolVal': True, 'Phone': 9500559267}\n",
      "dict_values(['Thamizh', 22, ['Photo', 'Art'], True, 9500559267])\n",
      "dict_keys(['Name', 'Age', 'Hobby', 'BoolVal', 'Phone'])\n",
      "Thamizh\n",
      "22\n",
      "['Photo', 'Art']\n",
      "True\n",
      "9500559267\n",
      "Thamizh\n"
     ]
    },
    {
     "ename": "TypeError",
     "evalue": "'int' object is not iterable",
     "output_type": "error",
     "traceback": [
      "\u001b[1;31m---------------------------------------------------------------------------\u001b[0m",
      "\u001b[1;31mTypeError\u001b[0m                                 Traceback (most recent call last)",
      "\u001b[1;32me:\\Practice codes\\python_codes_Thamizhanbu\\Practice 1.ipynb Cell 43\u001b[0m line \u001b[0;36m1\n\u001b[0;32m     <a href='vscode-notebook-cell:/e%3A/Practice%20codes/python_codes_Thamizhanbu/Practice%201.ipynb#X60sZmlsZQ%3D%3D?line=12'>13</a>\u001b[0m     \u001b[39mprint\u001b[39m(i)\n\u001b[0;32m     <a href='vscode-notebook-cell:/e%3A/Practice%20codes/python_codes_Thamizhanbu/Practice%201.ipynb#X60sZmlsZQ%3D%3D?line=13'>14</a>\u001b[0m \u001b[39mprint\u001b[39m(my_dict[\u001b[39m\"\u001b[39m\u001b[39mName\u001b[39m\u001b[39m\"\u001b[39m])\n\u001b[1;32m---> <a href='vscode-notebook-cell:/e%3A/Practice%20codes/python_codes_Thamizhanbu/Practice%201.ipynb#X60sZmlsZQ%3D%3D?line=14'>15</a>\u001b[0m \u001b[39mfor\u001b[39;00m n \u001b[39min\u001b[39;00m my_dict[\u001b[39m\"\u001b[39m\u001b[39mAge\u001b[39m\u001b[39m\"\u001b[39m]:\n\u001b[0;32m     <a href='vscode-notebook-cell:/e%3A/Practice%20codes/python_codes_Thamizhanbu/Practice%201.ipynb#X60sZmlsZQ%3D%3D?line=15'>16</a>\u001b[0m     \u001b[39mprint\u001b[39m(n)\n",
      "\u001b[1;31mTypeError\u001b[0m: 'int' object is not iterable"
     ]
    }
   ],
   "source": [
    "my_dict={\"Name\":\"Anbu\",\n",
    "         \"Age\":22,\n",
    "         \"Hobby\":[\"Photo\",\"Art\"],\n",
    "         \"BoolVal\":True}\n",
    "print(my_dict[\"Name\"])\n",
    "print(my_dict)\n",
    "my_dict[\"Name\"]=\"Thamizh\"\n",
    "my_dict[\"Phone\"]=9500559267\n",
    "print(my_dict)\n",
    "print(my_dict.values())\n",
    "print(my_dict.keys())\n",
    "for i in my_dict.values():\n",
    "    print(i)\n",
    "print(my_dict[\"Name\"])\n",
    "for n in my_dict[\"Age\"]:\n",
    "    print(n)"
   ]
  },
  {
   "cell_type": "code",
   "execution_count": 14,
   "id": "3c69dfa5",
   "metadata": {},
   "outputs": [],
   "source": [
    "student=[\n",
    "    {\"RollNO\":2122042,\n",
    "     \"Name\":\"Anbu\",\n",
    "     \"Age\":24\n",
    "     },\n",
    "    {\"RollNo\":23122022,\n",
    "                     \"Name\":\"Hiran\",\n",
    "                     \"Age\":21\n",
    "                     }\n",
    "                     ]"
   ]
  },
  {
   "cell_type": "markdown",
   "id": "42b44dbc",
   "metadata": {},
   "source": [
    "# Menu Driven Program"
   ]
  },
  {
   "cell_type": "code",
   "execution_count": 3,
   "id": "dfa027de",
   "metadata": {},
   "outputs": [
    {
     "name": "stdout",
     "output_type": "stream",
     "text": [
      "******************************\n",
      "Name Management System\n",
      "******************************\n",
      "******************************\n",
      "1.Enter a Name\n",
      "2. List the Name\n",
      "3. Search for a Name\n",
      "4. Exit\n",
      "******************************\n",
      "You have entered choice:  2\n",
      "******************************\n",
      "Names in the List\n",
      "******************************\n",
      "******************************\n",
      "******************************\n",
      "1.Enter a Name\n",
      "2. List the Name\n",
      "3. Search for a Name\n",
      "4. Exit\n",
      "******************************\n",
      "You have entered choice:  1\n",
      "Name 4 added to list successfully!\n",
      "******************************\n",
      "1.Enter a Name\n",
      "2. List the Name\n",
      "3. Search for a Name\n",
      "4. Exit\n",
      "******************************\n",
      "You have entered choice:  4\n",
      "******************************\n",
      "1.Enter a Name\n",
      "2. List the Name\n",
      "3. Search for a Name\n",
      "4. Exit\n",
      "******************************\n",
      "You have entered choice:  4\n",
      "******************************\n",
      "1.Enter a Name\n",
      "2. List the Name\n",
      "3. Search for a Name\n",
      "4. Exit\n",
      "******************************\n"
     ]
    },
    {
     "ename": "",
     "evalue": "",
     "output_type": "error",
     "traceback": [
      "\u001b[1;31mThe Kernel crashed while executing code in the the current cell or a previous cell. Please review the code in the cell(s) to identify a possible cause of the failure. Click <a href='https://aka.ms/vscodeJupyterKernelCrash'>here</a> for more info. View Jupyter <a href='command:jupyter.viewOutput'>log</a> for further details."
     ]
    }
   ],
   "source": [
    "nameList=[] #Global Variable\n",
    "def storeName():\n",
    "    name=input(\"Enter the name to be saved: \")\n",
    "    name=name.strip().title() #Convert to title case (First charc is upper)\n",
    "    nameList.append(name)\n",
    "    return name\n",
    "\n",
    "def listNames():\n",
    "    print(\"*\"*30)\n",
    "    print(\"Names in the List\")\n",
    "    print(\"*\"*30)\n",
    "    for name in nameList:\n",
    "        print(name)\n",
    "    print(\"*\"*30)\n",
    "\n",
    "def searchName(search):\n",
    "    search=search.strip().title()\n",
    "    for name in nameList:\n",
    "        if name==search:\n",
    "            print(\"Name exist in the list\")\n",
    "\n",
    "print(\"*\"*30+\"\\nName Management System\\n\"+\"*\"*30)\n",
    "while True:\n",
    "    print(\"*\"*30)\n",
    "    print(\"1.Enter a Name\")\n",
    "    print(\"2. List the Name\")\n",
    "    print(\"3. Search for a Name\")\n",
    "    print(\"4. Exit\")\n",
    "    print(\"*\"*30)\n",
    "\n",
    "    choice=input(\"Enter your choice?\")\n",
    "    print(\"You have entered choice: \",choice)\n",
    "\n",
    "    if int(choice)==1:\n",
    "        name=storeName()\n",
    "        print(\"Name {} added to list successfully!\".format(name))\n",
    "    elif int(choice)==2:\n",
    "        listNames()\n",
    "    elif int(choice)==3:\n",
    "        name=input(\"Enter a name to be searched\")\n",
    "        searchName(name)\n",
    "    elif int(choice)==4:\n",
    "        exit() #Stop the program execution\n",
    "    else:\n",
    "        print(\"Invalid Option\")\n"
   ]
  },
  {
   "cell_type": "code",
   "execution_count": 1,
   "id": "fc7d2c17",
   "metadata": {},
   "outputs": [
    {
     "name": "stdout",
     "output_type": "stream",
     "text": [
      "{'name': [''], 'age': ['tam'], 'mail': ['22']}\n",
      "tam\n",
      "{'name': ['', '2'], 'age': ['tam', 'werer'], 'mail': ['22', '23']}\n",
      "tam\n",
      "werer\n",
      "{'name': ['', '2', '1'], 'age': ['tam', 'werer', 'tam'], 'mail': ['22', '23', '23']}\n",
      "tam\n",
      "werer\n",
      "tam\n"
     ]
    }
   ],
   "source": [
    "samp_dict={\"name\":[],\"age\":[],\"mail\":[]}\n",
    "stop=0\n",
    "while stop!=1:\n",
    "    name=input(\"Name\")\n",
    "    age=input(\"age\")\n",
    "    mail=input(\"mail\")\n",
    "    stop=input(\"stop\")\n",
    "    samp_dict[\"name\"].append(name)\n",
    "    samp_dict[\"age\"].append(age)\n",
    "    samp_dict[\"mail\"].append(mail)\n",
    "    print(samp_dict)\n",
    "    for i in samp_dict[\"age\"]:\n",
    "        print(i)\n",
    "print(samp_dict[\"age\"].index(\"23\"))"
   ]
  },
  {
   "cell_type": "code",
   "execution_count": 7,
   "id": "ce0fe4aa",
   "metadata": {},
   "outputs": [
    {
     "name": "stdout",
     "output_type": "stream",
     "text": [
      "1 tea 10\n",
      "2 Coffe 20\n"
     ]
    }
   ],
   "source": [
    "list=[[\"tea\",10],[\"Coffe\",20]]\n",
    "j=0\n",
    "for i in list:\n",
    "    j=j+1\n",
    "    print(j,i[0],i[1])"
   ]
  },
  {
   "cell_type": "markdown",
   "id": "822113b8",
   "metadata": {},
   "source": [
    "# Class and Objects"
   ]
  },
  {
   "cell_type": "code",
   "execution_count": 9,
   "id": "5a156c74",
   "metadata": {},
   "outputs": [
    {
     "name": "stdout",
     "output_type": "stream",
     "text": [
      "10000\n"
     ]
    }
   ],
   "source": [
    "class restaurant:\n",
    "    def __init__(self,item,qty):\n",
    "        self.item=item\n",
    "        self.qty=qty\n",
    "        self.menu={\n",
    "            \"rice\":30,\n",
    "            \"chicken\":100\n",
    "        }\n",
    "\n",
    "    def findCost(self):\n",
    "        total =0\n",
    "        total = self.menu[self.item]*self.qty\n",
    "        return total\n",
    "    \n",
    "order=restaurant(\"chicken\",100)\n",
    "print(order.findCost())"
   ]
  },
  {
   "cell_type": "code",
   "execution_count": 7,
   "id": "a87d757b",
   "metadata": {},
   "outputs": [
    {
     "name": "stdout",
     "output_type": "stream",
     "text": [
      "Total Expense= 50000 \n",
      "Total Income= 10000\n",
      "{'Category': 'Salary', 'Cost': '50000', 'Description': 'Salary from Accenture', 'Date': '20.09.23'}\n",
      "{'Category': 'Food', 'Cost': '10000', 'Description': 'Food bought outside', 'Date': '21.09.23'}\n",
      "{'Category': 'Entertainment', 'Cost': '300', 'Description': 'Leo film', 'Date': '20.09.23'}\n",
      "{'Category': 'Travel', 'Cost': '5000', 'Description': 'travel to hometown', 'Date': '22.09.23'}\n"
     ]
    }
   ],
   "source": [
    "class expenseTrack:\n",
    "    def __init__(self):\n",
    "        self.tracker={\n",
    "            \"income\":[],\n",
    "            \"expense\":[]\n",
    "        }\n",
    "        self.expenseDetails={\"transacDetails\":[]}\n",
    "    def recordTransaction(self,type,category,value,description, date):\n",
    "        transacDetails={\"Category\":category,\"Cost\":value,\"Description\":description,\"Date\":date}\n",
    "        if type==\"income\":\n",
    "            self.tracker[\"income\"].append(value)\n",
    "        else:\n",
    "            self.tracker[\"expense\"].append(value)\n",
    "        \n",
    "        self.expenseDetails[\"transacDetails\"].append(transacDetails)\n",
    "\n",
    "    def calculateTransac(self):\n",
    "        totalin=0\n",
    "        totalex=0\n",
    "        for i in range(0,len(self.tracker[\"income\"])):\n",
    "            totalin+=int(self.tracker[\"income\"][i])\n",
    "            totalex+=int(self.tracker[\"expense\"][i])\n",
    "        return totalex,totalin\n",
    "\n",
    "transaction1=expenseTrack()\n",
    "num=int(input(\"Enter the number of records to be stored:\"))\n",
    "for i in range(0,num):\n",
    "    transaction1.recordTransaction(\n",
    "        input(\"Enter the type:\"),input(\"Enter category\"),input(\"Enter the value:\"),\n",
    "        input(\"Enter description:\"),input(\"Enter the date:\"))\n",
    "    \n",
    "totalin,totalex=transaction1.calculateTransac()\n",
    "print(\"Total Expense=\",totalex,\"\\nTotal Income=\",totalin)\n",
    "for i in transaction1.expenseDetails[\"transacDetails\"]:\n",
    "    print(i)"
   ]
  },
  {
   "cell_type": "markdown",
   "id": "7f10b56c",
   "metadata": {},
   "source": [
    "Python Library -\n",
    "numpy, pandas, matplotlib\n",
    "Distributer - PyPi, Conda"
   ]
  },
  {
   "cell_type": "code",
   "execution_count": null,
   "id": "2eca4c1d",
   "metadata": {},
   "outputs": [],
   "source": [
    "import numpy as np\n"
   ]
  }
 ],
 "metadata": {
  "kernelspec": {
   "display_name": "Python 3 (ipykernel)",
   "language": "python",
   "name": "python3"
  },
  "language_info": {
   "codemirror_mode": {
    "name": "ipython",
    "version": 3
   },
   "file_extension": ".py",
   "mimetype": "text/x-python",
   "name": "python",
   "nbconvert_exporter": "python",
   "pygments_lexer": "ipython3",
   "version": "3.11.4"
  }
 },
 "nbformat": 4,
 "nbformat_minor": 5
}
