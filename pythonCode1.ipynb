{
 "cells": [
  {
   "cell_type": "markdown",
   "metadata": {},
   "source": [
    "Write a Python program that uses a while loop to print the numbers from 1 to 10."
   ]
  },
  {
   "cell_type": "code",
   "execution_count": 2,
   "metadata": {},
   "outputs": [
    {
     "name": "stdout",
     "output_type": "stream",
     "text": [
      "1\n",
      "2\n",
      "3\n",
      "4\n",
      "5\n",
      "6\n",
      "7\n",
      "8\n",
      "9\n",
      "10\n"
     ]
    }
   ],
   "source": [
    "i=0\n",
    "while i in range(0,10):\n",
    "    i+=1\n",
    "    print(i)"
   ]
  },
  {
   "cell_type": "markdown",
   "metadata": {},
   "source": [
    "Write a Python program that uses a for loop to calculate the sum of all numbers from 1 to 100."
   ]
  },
  {
   "cell_type": "code",
   "execution_count": 1,
   "metadata": {},
   "outputs": [
    {
     "name": "stdout",
     "output_type": "stream",
     "text": [
      "5050\n"
     ]
    }
   ],
   "source": [
    "sum=0\n",
    "for i in range(1,101):\n",
    "    sum=sum+i\n",
    "print(sum)"
   ]
  },
  {
   "cell_type": "markdown",
   "metadata": {},
   "source": [
    "Create a dictionary called student_grades that stores the grades of three students (Alice, Bob, and Carol) for a test. Use their names as keys and assign random grades (e.g., out of 100) as values."
   ]
  },
  {
   "cell_type": "code",
   "execution_count": 3,
   "metadata": {},
   "outputs": [
    {
     "data": {
      "text/plain": [
       "{'alice': 55, 'bob': 74, 'carol': 27}"
      ]
     },
     "execution_count": 3,
     "metadata": {},
     "output_type": "execute_result"
    }
   ],
   "source": [
    "import random\n",
    "grade_dict={\"alice\":None,\"bob\":None,\"carol\":None}\n",
    "grade_dict[\"alice\"]=random.randint(0,100)\n",
    "grade_dict[\"bob\"]=random.randint(0,100)\n",
    "grade_dict[\"carol\"]=random.randint(0,100)\n",
    "grade_dict\n"
   ]
  },
  {
   "cell_type": "code",
   "execution_count": 13,
   "metadata": {},
   "outputs": [
    {
     "name": "stdout",
     "output_type": "stream",
     "text": [
      "[2, 4, 6]\n"
     ]
    }
   ],
   "source": [
    "size=int(input(\"Enter the number of inputs to be give:\"))\n",
    "num=[0]*size\n",
    "for i in range(0,size):\n",
    "    num[i]=int(input(\"Enter value\"))\n",
    "even=[]\n",
    "for i in range(0,size):\n",
    "    if num[i]%2==0:\n",
    "        even.append(num[i])\n",
    "print(even)"
   ]
  },
  {
   "cell_type": "code",
   "execution_count": 9,
   "metadata": {},
   "outputs": [
    {
     "name": "stdout",
     "output_type": "stream",
     "text": [
      "[['Chicken Dum Biriyani', 160], ['Chicken Malabar Biriyani', 150], ['Chicken Thali', 110], ['Veg Thali', 100], ['Sambar Rice', 80], ['Curd Rice', 80]]\n",
      "Dish Name    Price\n"
     ]
    }
   ],
   "source": [
    "mainCourse=[\n",
    "    [\"Chicken Malabar Biriyani\",150],\n",
    "    [\"Chicken Dum Biriyani\",160],\n",
    "    [\"Sambar Rice\",80],\n",
    "    [\"Curd Rice\",80],\n",
    "    [\"Veg Thali\",100],\n",
    "    [\"Chicken Thali\",110]]\n",
    "mainCourse.sort(key=lambda x:x[1],reverse=True)\n",
    "print(mainCourse)\n",
    "print(\"Dish Name\"+\" \"*((len(\"Dish Name\")-len(\"Dish Name\"))+4)+\"Price\")"
   ]
  },
  {
   "cell_type": "code",
   "execution_count": 21,
   "metadata": {},
   "outputs": [
    {
     "name": "stdout",
     "output_type": "stream",
     "text": [
      "tham4339\n",
      "t2ha355\n"
     ]
    }
   ],
   "source": [
    "import random\n",
    "name=\"Thamizhanbu\"\n",
    "username=name[:4].lower()+str(random.randint(10,99))+str(random.randint(10,99))\n",
    "print(username)\n",
    "password=name[:1].lower()+str(random.randint(0,9))+name[1:3]+str(random.randint(100,999))\n",
    "print(password)"
   ]
  }
 ],
 "metadata": {
  "kernelspec": {
   "display_name": "Python 3",
   "language": "python",
   "name": "python3"
  },
  "language_info": {
   "codemirror_mode": {
    "name": "ipython",
    "version": 3
   },
   "file_extension": ".py",
   "mimetype": "text/x-python",
   "name": "python",
   "nbconvert_exporter": "python",
   "pygments_lexer": "ipython3",
   "version": "3.11.4"
  },
  "orig_nbformat": 4
 },
 "nbformat": 4,
 "nbformat_minor": 2
}
